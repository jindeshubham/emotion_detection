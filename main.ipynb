{
 "cells": [
  {
   "cell_type": "code",
   "execution_count": 26,
   "metadata": {},
   "outputs": [],
   "source": [
    "import numpy as np\n",
    "import pandas as pd\n",
    "import os \n",
    "import matplotlib.image as mpimg\n",
    "import matplotlib.pyplot as plt\n",
    "import cv2\n",
    "from PIL import Image"
   ]
  },
  {
   "cell_type": "code",
   "execution_count": 27,
   "metadata": {},
   "outputs": [],
   "source": [
    "train_data = pd.read_csv('./data/legend.csv')\n",
    "test_data = pd.read_csv('./data/500_picts_satz.csv')"
   ]
  },
  {
   "cell_type": "code",
   "execution_count": null,
   "metadata": {},
   "outputs": [],
   "source": []
  },
  {
   "cell_type": "code",
   "execution_count": 102,
   "metadata": {},
   "outputs": [],
   "source": [
    "train_data = pd.read_csv('./data/legend.csv')\n",
    "train_emotion = train_data['emotion'].str.lower()\n",
    "\n",
    "test_data = pd.read_csv('./data/500_picts_satz.csv')\n",
    "test_emotion = test_data['emotion'].str.lower()"
   ]
  },
  {
   "cell_type": "code",
   "execution_count": 29,
   "metadata": {},
   "outputs": [],
   "source": [
    "train_emotion = pd.get_dummies(train_emotion)\n",
    "test_wmotion = pd.get_dummies(test_emotion)"
   ]
  },
  {
   "cell_type": "code",
   "execution_count": 30,
   "metadata": {},
   "outputs": [],
   "source": [
    "from torch.utils.data import Dataset, DataLoader\n",
    "from torchvision import transforms, utils"
   ]
  },
  {
   "cell_type": "code",
   "execution_count": 31,
   "metadata": {},
   "outputs": [],
   "source": [
    "transform_train = transforms.Compose([ \n",
    "    transforms.Resize(256),                          # smaller edge of image resized to 256\n",
    "    transforms.RandomCrop(224),                      # get 224x224 crop from random location\n",
    "    transforms.RandomHorizontalFlip(),               # horizontally flip image with probability=0.5\n",
    "    transforms.ToTensor(),                           # convert the PIL Image to a tensor\n",
    "    transforms.Normalize((0.485, 0.456, 0.406),      # normalize image for pre-trained model\n",
    "                         (0.229, 0.224, 0.225))])"
   ]
  },
  {
   "cell_type": "code",
   "execution_count": 98,
   "metadata": {},
   "outputs": [],
   "source": [
    "class EmotionDetectionDataset(Dataset):\n",
    "    \n",
    "      def __init__(self,csv_file,emotion,root_dir,transform=None):\n",
    "            self.data = pd.read_csv(csv_file)\n",
    "            self.emotion = emotion\n",
    "            self.root_dir = root_dir\n",
    "            self.transform = transform\n",
    "            \n",
    "      \n",
    "      def __len__(self):\n",
    "            return len(self.emotion)\n",
    "        \n",
    "      \n",
    "      def __getitem__(self,idx):\n",
    "        \n",
    "     \n",
    "        \n",
    "        image_name = Image.open(os.path.join(self.root_dir,\n",
    "                                self.data.iloc[idx, 1])).convert('LA')\n",
    "        \n",
    "    \n",
    "      \n",
    "    \n",
    "        image = self.transform(image_name)\n",
    "\n",
    "\n",
    "       \n",
    "\n",
    "        emotion = self.emotion.iloc[idx]\n",
    "        sample = {'image': image, 'emotion': emotion}\n",
    "\n",
    "        \n",
    "        return sample\n",
    "    "
   ]
  },
  {
   "cell_type": "code",
   "execution_count": 100,
   "metadata": {},
   "outputs": [
    {
     "name": "stdout",
     "output_type": "stream",
     "text": [
      "(8,)\n",
      "torch.Size([2, 224, 224])\n"
     ]
    }
   ],
   "source": [
    "train_dataset =  EmotionDetectionDataset('./data/legend.csv',train_emotion,'./images/',transform=transform_train)\n",
    "test_dataset = EmotionDetectionDataset('./data/500_picts_satz.csv',test_emotion,'./images/',transform=transform_train)\n",
    "sample = transformed_dataset[2]\n",
    "print (sample['emotion'].shape)\n",
    "print(sample['image'].shape)"
   ]
  },
  {
   "cell_type": "code",
   "execution_count": 101,
   "metadata": {},
   "outputs": [],
   "source": [
    "##Define Network \n",
    "\n",
    "import torch\n",
    "import torch.nn as nn\n",
    "import torch.nn.functional as F\n",
    "# can use the below import should you choose to initialize the weights of your Net\n",
    "import torch.nn.init as I\n",
    "\n",
    "class Net(nn.Module):\n",
    "\n",
    "    def __init__(self):\n",
    "        super(Net, self).__init__()\n",
    "        \n",
    "        ## TODO: Define all the layers of this CNN, the only requirements are:\n",
    "        ## 1. This network takes in a square (same width and height), grayscale image as input\n",
    "        ## 2. It ends with a linear layer that represents the keypoints\n",
    "        ## it's suggested that you make this last layer output 136 values, 2 for each of the 68 keypoint (x, y) pairs\n",
    "        \n",
    "        # As an example, you've been given a convolutional layer, which you may (but don't have to) change:\n",
    "        # 1 input image channel (grayscale), 32 output channels/feature maps, 5x5 square convolution kernel\n",
    "        self.conv1 = nn.Conv2d(2, 32, 5)\n",
    "        self.batchn1 = nn.BatchNorm2d(32)\n",
    "        self.pool = nn.MaxPool2d(2,2)\n",
    "        self.conv2 = nn.Conv2d(32,64,5)\n",
    "        self.batchn2 = nn.BatchNorm2d(64)\n",
    "        self.conv3 = nn.Conv2d(64,128,5)\n",
    "        self.batchn3 = nn.BatchNorm2d(128)\n",
    "        self.conv4 = nn.Conv2d(128,256,5)\n",
    "        self.batchn4 = nn.BatchNorm2d(256)\n",
    "        self.conv5 = nn.Conv2d(256,512,5)\n",
    "        self.batchn5 = nn.BatchNorm2d(512)\n",
    "        self.fc1 = nn.Linear(4608,2000)\n",
    "        self.batchn6 = nn.BatchNorm1d(2000)\n",
    "        self.drop = nn.Dropout(p=0.3)\n",
    "        self.fc2 = nn.Linear(2000,1000)\n",
    "        self.batchn7 = nn.BatchNorm1d(1000)\n",
    "        self.drop = nn.Dropout(p=0.4)\n",
    "        self.fc3 = nn.Linear(1000,400)\n",
    "        self.batchn8 = nn.BatchNorm1d(400)\n",
    "        self.drop = nn.Dropout(p=0.5)\n",
    "        self.fc4 = nn.Linear(400,200) \n",
    "        self.batchn9 = nn.BatchNorm1d(200)\n",
    "        self.fc5 = nn.Linear(200,136)\n",
    "        \n",
    "        ## Note that among the layers to add, consider including:\n",
    "        # maxpooling layers, multiple conv layers, fully-connected layers, and other layers (such as dropout or batch normalization) to avoid overfitting\n",
    "        \n",
    "\n",
    "        \n",
    "    def forward(self, x):\n",
    "        ## TODO: Define the feedforward behavior of this model\n",
    "        ## x is the input image and, as an example, here you may choose to include a pool/conv step:\n",
    "        ## x = self.pool(F.relu(self.conv1(x)))\n",
    "        x = self.pool(F.relu(self.batchn1(self.conv1(x))))\n",
    "        x = self.drop(x)\n",
    "        x = self.pool(F.relu(self.batchn2(self.conv2(x))))\n",
    "        x = self.drop(x)\n",
    "        x = self.pool(F.relu(self.batchn3(self.conv3(x))))\n",
    "        x = self.drop(x)\n",
    "        x = self.pool(F.relu(self.batchn4(self.conv4(x))))\n",
    "        x = self.drop(x)\n",
    "        x = self.pool(F.relu(self.batchn5(self.conv5(x))))\n",
    "        x = x.view(x.size(0), -1)\n",
    "        x = self.drop(x)\n",
    "        x = F.relu(self.batchn6(self.fc1(x)))\n",
    "        x = self.drop(x)\n",
    "        x = F.relu(self.batchn7(self.fc2(x)))\n",
    "        x = self.drop(x)\n",
    "        x = F.relu(self.batchn8(self.fc3(x)))\n",
    "        x = self.drop(x)\n",
    "        x = F.relu(self.batchn9(self.fc4(x)))\n",
    "        x = self.drop(x)\n",
    "        x = self.fc5(x)\n",
    "        # a softmax layer to convert the 10 outputs into a distribution of class scores\n",
    "           \n",
    "        # a modified x, having gone through all the layers of your model, should be returned\n",
    "        return x"
   ]
  },
  {
   "cell_type": "code",
   "execution_count": null,
   "metadata": {},
   "outputs": [],
   "source": [
    "from torch.utils.data import Dataset, DataLoader\n",
    "\n",
    "\n"
   ]
  }
 ],
 "metadata": {
  "kernelspec": {
   "display_name": "Python 3",
   "language": "python",
   "name": "python3"
  },
  "language_info": {
   "codemirror_mode": {
    "name": "ipython",
    "version": 3
   },
   "file_extension": ".py",
   "mimetype": "text/x-python",
   "name": "python",
   "nbconvert_exporter": "python",
   "pygments_lexer": "ipython3",
   "version": "3.6.4"
  }
 },
 "nbformat": 4,
 "nbformat_minor": 1
}
